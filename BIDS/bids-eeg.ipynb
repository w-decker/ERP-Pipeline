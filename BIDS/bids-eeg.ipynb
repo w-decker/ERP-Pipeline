{
 "cells": [
  {
   "attachments": {},
   "cell_type": "markdown",
   "metadata": {},
   "source": [
    "# Converting EEG data into BIDS Format\n",
    "## Author: Will Decker"
   ]
  },
  {
   "attachments": {},
   "cell_type": "markdown",
   "metadata": {},
   "source": [
    "Load necessary libraries"
   ]
  },
  {
   "cell_type": "code",
   "execution_count": null,
   "metadata": {},
   "outputs": [],
   "source": [
    "import os\n",
    "import os.path as op\n",
    "import shutil\n",
    "import mne\n",
    "from mne.datasets import eegbci\n",
    "from mne_bids import write_raw_bids, BIDSPath, print_dir_tree\n",
    "from mne_bids.stats import count_events"
   ]
  },
  {
   "attachments": {},
   "cell_type": "markdown",
   "metadata": {},
   "source": [
    "Load data"
   ]
  },
  {
   "cell_type": "code",
   "execution_count": null,
   "metadata": {},
   "outputs": [],
   "source": [
    "datadir = \" \"; # path to raw data\n",
    "\n",
    "print_dir_tree(datadir) # expand/display file tree\n",
    "\n",
    "# create an empty list to store the raw data\n",
    "raw_data = []\n",
    "\n",
    "# loop through the files in the folder\n",
    "for filename in os.listdir(datadir):\n",
    "    # check if the file is a BrainVision (.vhdr) file\n",
    "    if filename.endswith(\".vhdr\"):\n",
    "        # construct the full file path\n",
    "        file_path = os.path.join(datadir, filename)\n",
    "        # load the data from the BrainVision file\n",
    "        raw = mne.io.read_raw_brainvision(file_path)\n",
    "        # add the raw data to the list\n",
    "        raw_data.append(raw)\n",
    "\n",
    "# combine the raw data into a single raw object\n",
    "raw = mne.concatenate_raws(raw_data)\n",
    "\n",
    "print(raw.info)"
   ]
  },
  {
   "attachments": {},
   "cell_type": "markdown",
   "metadata": {},
   "source": [
    "Montage"
   ]
  },
  {
   "cell_type": "code",
   "execution_count": null,
   "metadata": {},
   "outputs": [],
   "source": [
    "get_montage = mne.channels.get_builtin_montages(descriptions = True) # get list of standard montages\n",
    "for montage_name, montage_description in get_montage: \n",
    "    print(f'{montage_name}: {montage_description}')\n",
    "    montage = montage_name\n",
    "    break\n",
    "\n",
    "standard_montage = mne.channels.make_standard_montage(montage)\n",
    "raw.set_montage(standard_montage) # attribute montage to raw object\n",
    "\n",
    "raw.plot_sensors() # display montage"
   ]
  },
  {
   "attachments": {},
   "cell_type": "markdown",
   "metadata": {},
   "source": [
    "Convert EEG data to BIDS format"
   ]
  },
  {
   "cell_type": "code",
   "execution_count": null,
   "metadata": {},
   "outputs": [],
   "source": [
    "bids_root = \" \" # path to new BIDS output\n",
    "task = \" \" # task\n",
    "session = \" \" # session\n",
    "subjectID = \" \" # subject ID number, e.g. '028'\n",
    "\n",
    "\n",
    "for ids in subjectID: # create BIDS compliant data based on subject ID number\n",
    "    bids_path = BIDSPath(subject=ids, task=task, root=bids_root)\n",
    "    write_raw_bids(raw, bids_path, overwrite=True, allow_preload= True, format = 'BrainVision')"
   ]
  },
  {
   "attachments": {},
   "cell_type": "markdown",
   "metadata": {},
   "source": [
    "References"
   ]
  },
  {
   "cell_type": "code",
   "execution_count": null,
   "metadata": {},
   "outputs": [],
   "source": [
    "readme = op.join(bids_root, 'README')\n",
    "with open(readme, 'r', encoding='utf-8-sig') as fid:\n",
    "    text = fid.read()\n",
    "print(text)"
   ]
  }
 ],
 "metadata": {
  "kernelspec": {
   "display_name": "Python 3",
   "language": "python",
   "name": "python3"
  },
  "language_info": {
   "codemirror_mode": {
    "name": "ipython",
    "version": 3
   },
   "file_extension": ".py",
   "mimetype": "text/x-python",
   "name": "python",
   "nbconvert_exporter": "python",
   "pygments_lexer": "ipython3",
   "version": "3.10.7"
  },
  "orig_nbformat": 4,
  "vscode": {
   "interpreter": {
    "hash": "aee8b7b246df8f9039afb4144a1f6fd8d2ca17a180786b69acc140d282b71a49"
   }
  }
 },
 "nbformat": 4,
 "nbformat_minor": 2
}
