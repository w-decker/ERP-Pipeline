{
 "cells": [
  {
   "attachments": {},
   "cell_type": "markdown",
   "metadata": {},
   "source": [
    "# Title: Renaming BrainVision EEG Files (.vhdr)\n",
    "## Author: Will Decker"
   ]
  },
  {
   "attachments": {},
   "cell_type": "markdown",
   "metadata": {},
   "source": [
    "### Notes\n",
    "\n",
    "EEG files follow specific requirements outlined by the BIDS standard and below.\n",
    "\n",
    "```\n",
    "sub-<label>/\n",
    "    [ses-<label>/]\n",
    "        eeg/\n",
    "            sub-<label>[_ses-<label>]_task-<label>[_acq-<label>][_run-<index>]_eeg.<extension>\n",
    "            sub-<label>[_ses-<label>]_task-<label>[_acq-<label>][_run-<index>]_eeg.json\n",
    "            sub-<label>[_ses-<label>]_task-<label>[_acq-<label>][_run-<index>]_events.json\n",
    "            sub-<label>[_ses-<label>]_task-<label>[_acq-<label>][_run-<index>]_events.tsv\n",
    "            sub-<label>[_ses-<label>]_task-<label>[_acq-<label>][_run-<index>][_recording-<label>]_physio.json\n",
    "            sub-<label>[_ses-<label>]_task-<label>[_acq-<label>][_run-<index>][_recording-<label>]_physio.tsv.gz\n",
    "            sub-<label>[_ses-<label>]_task-<label>[_acq-<label>][_run-<index>][_recording-<label>]_stim.json\n",
    "            sub-<label>[_ses-<label>]_task-<label>[_acq-<label>][_run-<index>][_recording-<label>]_stim.tsv.gz\n",
    "```\n",
    "\n",
    "To read more on BIDS specification, visit https://bids-specification.readthedocs.io/"
   ]
  },
  {
   "attachments": {},
   "cell_type": "markdown",
   "metadata": {},
   "source": [
    "Load  necessary libraries"
   ]
  },
  {
   "cell_type": "code",
   "execution_count": null,
   "metadata": {},
   "outputs": [],
   "source": [
    "import os\n",
    "import pandas as pd\n",
    "import os.path as op\n",
    "import mne\n",
    "from mne_bids.copyfiles import copyfile_brainvision"
   ]
  },
  {
   "attachments": {},
   "cell_type": "markdown",
   "metadata": {},
   "source": [
    "Establish directories"
   ]
  },
  {
   "cell_type": "code",
   "execution_count": null,
   "metadata": {},
   "outputs": [],
   "source": [
    "rawdata = \" \" # path to raw data\n",
    "rename = \" \" # path to new BIDS filder located within raw data folder, or simply write new path "
   ]
  },
  {
   "attachments": {},
   "cell_type": "markdown",
   "metadata": {},
   "source": [
    "Rename"
   ]
  },
  {
   "cell_type": "code",
   "execution_count": null,
   "metadata": {},
   "outputs": [],
   "source": [
    "# Get a list of all files in the examples_dir\n",
    "files = os.listdir(rawdata)\n",
    "\n",
    "# Loop over each file in the folder\n",
    "for i, file in enumerate(files):\n",
    "    # Only process files with the .vhdr extension\n",
    "    if os.path.splitext(file)[1] == \".vhdr\":\n",
    "        # Split the file name into parts (based on naming scheme: eeg_<task>_<subj#>.vhdr)\n",
    "        file_parts = file.split(\"_\")\n",
    "        # Keep the three digits at the end of the file name\n",
    "        file_number = file_parts[-1].split(\".\")[0]\n",
    "        # Rename the file\n",
    "        original = op.join(rawdata, file)\n",
    "        renamed = op.join(datadir, 'sub-' + file_number + '_ses-001_task-wordlearning_run-001.vhdr') # naming scheme based on BIDS format\n",
    "        copyfile_brainvision(original, renamed, verbose=True)\n",
    "\n",
    "        # Check that MNE-Python can read in both, the original as well as the renamed\n",
    "        # data (two files: their contents are the same apart from the name)\n",
    "        raw = mne.io.read_raw_brainvision(original)\n",
    "        raw_renamed = mne.io.read_raw_brainvision(renamed)\n"
   ]
  },
  {
   "attachments": {},
   "cell_type": "markdown",
   "metadata": {},
   "source": [
    "# References\n",
    "\n",
    "Pernet, C.R., Appelhoff, S., Gorgolewski, K.J. et al. EEG-BIDS, an extension to the brain imaging data structure for electroencephalography. Sci Data 6, 103 (2019). https://doi.org/10.1038/s41597-019-0104-8"
   ]
  }
 ],
 "metadata": {
  "kernelspec": {
   "display_name": "Python 3",
   "language": "python",
   "name": "python3"
  },
  "language_info": {
   "codemirror_mode": {
    "name": "ipython",
    "version": 3
   },
   "file_extension": ".py",
   "mimetype": "text/x-python",
   "name": "python",
   "nbconvert_exporter": "python",
   "pygments_lexer": "ipython3",
   "version": "3.10.7 (v3.10.7:6cc6b13308, Sep  5 2022, 14:02:52) [Clang 13.0.0 (clang-1300.0.29.30)]"
  },
  "orig_nbformat": 4,
  "vscode": {
   "interpreter": {
    "hash": "aee8b7b246df8f9039afb4144a1f6fd8d2ca17a180786b69acc140d282b71a49"
   }
  }
 },
 "nbformat": 4,
 "nbformat_minor": 2
}
