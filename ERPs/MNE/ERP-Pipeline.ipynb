{
 "cells": [
  {
   "attachments": {},
   "cell_type": "markdown",
   "metadata": {},
   "source": [
    "## ERPs Using MNE\n",
    "\n",
    "# Author: Will Decker\n",
    "\n",
    "# Note: Adapted from documentation found here: mne.tools/stable/overview/index.html#"
   ]
  },
  {
   "cell_type": "code",
   "execution_count": null,
   "metadata": {},
   "outputs": [],
   "source": [
    "## load dependancies \n",
    "\n",
    "import mne\n",
    "import numpy as np\n",
    "import os\n",
    "import matplotlib as plt"
   ]
  },
  {
   "cell_type": "code",
   "execution_count": null,
   "metadata": {},
   "outputs": [],
   "source": [
    "## Loading and plotting raw data\n",
    "\n",
    "# Set the folder path\n",
    "folder_path = '/Users/lendlab/Desktop/MNE/rawdata'\n",
    "\n",
    "# create an empty list to store the raw data\n",
    "raw_data = []\n",
    "\n",
    "# loop through the files in the folder\n",
    "for filename in os.listdir(folder_path):\n",
    "    # check if the file is a BrainVision (.vhdr) file\n",
    "    if filename.endswith(\".vhdr\"):\n",
    "        # construct the full file path\n",
    "        file_path = os.path.join(folder_path, filename)\n",
    "        # load the data from the BrainVision file\n",
    "        raw = mne.io.read_raw_brainvision(file_path)\n",
    "        # add the raw data to the list\n",
    "        raw_data.append(raw)\n",
    "\n",
    "# combine the raw data into a single raw object\n",
    "raw = mne.concatenate_raws(raw_data)\n",
    "\n",
    "print(raw.info)\n",
    "raw.plot_psd(fmax = 50)\n",
    "raw.plot(duration=5, n_channels=len(raw.ch_names))\n",
    "\n",
    "# convert data to numpy array\n",
    "\n",
    "data = raw.get_data()\n",
    "print(type(data))  # <class 'numpy.ndarray'>\n",
    "print(data.shape)  # (n_channels, n_samples)"
   ]
  },
  {
   "cell_type": "code",
   "execution_count": null,
   "metadata": {},
   "outputs": [],
   "source": [
    "## Identifying Trigger Codes\n",
    "\n",
    "events,_ = mne.events_from_annotations(raw)\n",
    "print(events[:]) # check events\n",
    "print(type(events)) # check data structure class"
   ]
  },
  {
   "cell_type": "code",
   "execution_count": null,
   "metadata": {},
   "outputs": [],
   "source": [
    "## Epoching data\n",
    "\n",
    "epochs = mne.Epochs(raw, events, tmin=-0.2, tmax=0.8, preload = True)\n",
    "\n",
    "print(epochs)\n",
    "print(epochs.event_id)\n",
    "\n",
    "epochs.plot(n_epochs=len(epochs))"
   ]
  },
  {
   "cell_type": "code",
   "execution_count": null,
   "metadata": {},
   "outputs": [],
   "source": [
    "### Preprocessing\n",
    "\n",
    "## Filter data\n",
    "\n",
    "# filter data through low pass and high pass filters\n",
    "\n",
    "filtered_data = mne.filter.filter_data(data, raw.info['sfreq'], 30, 0.1)"
   ]
  }
 ],
 "metadata": {
  "kernelspec": {
   "display_name": "Python 3",
   "language": "python",
   "name": "python3"
  },
  "language_info": {
   "name": "python",
   "version": "3.10.7 (v3.10.7:6cc6b13308, Sep  5 2022, 14:02:52) [Clang 13.0.0 (clang-1300.0.29.30)]"
  },
  "orig_nbformat": 4,
  "vscode": {
   "interpreter": {
    "hash": "aee8b7b246df8f9039afb4144a1f6fd8d2ca17a180786b69acc140d282b71a49"
   }
  }
 },
 "nbformat": 4,
 "nbformat_minor": 2
}
